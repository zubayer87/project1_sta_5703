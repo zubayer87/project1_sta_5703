{
 "cells": [
  {
   "cell_type": "code",
   "execution_count": 104,
   "metadata": {
    "scrolled": false
   },
   "outputs": [
    {
     "name": "stdout",
     "output_type": "stream",
     "text": [
      "Warning: column count mismatch (217 + 927 != 7393)\n",
      "\n"
     ]
    }
   ],
   "source": [
    "import pandas as pd\n",
    "df = pd.read_sas('maize.sas7bdat')\n",
    "df = df.fillna(0)"
   ]
  },
  {
   "cell_type": "code",
   "execution_count": 106,
   "metadata": {},
   "outputs": [],
   "source": [
    "from sklearn import linear_model\n",
    "from sklearn.model_selection import train_test_split\n",
    "from sklearn.preprocessing import LabelEncoder\n",
    "lb = LabelEncoder()\n",
    "df['Geno_Code'] = lb.fit_transform(df['Geno_Code'])"
   ]
  },
  {
   "cell_type": "code",
   "execution_count": 107,
   "metadata": {},
   "outputs": [
    {
     "name": "stdout",
     "output_type": "stream",
     "text": [
      "Train (3984, 7392) (3984,)\n",
      "Test (997, 7392) (997,)\n"
     ]
    }
   ],
   "source": [
    "#df.drop(columns='Geno_Code', inplace = True)\n",
    "X = df.drop(columns=['DtoA'])\n",
    "y = df['DtoA']\n",
    "\n",
    "X_train, X_test, y_train, y_test = train_test_split(X, y, test_size=0.20, random_state=1)\n",
    "print('Train', X_train.shape, y_train.shape)\n",
    "print('Test', X_test.shape, y_test.shape)"
   ]
  },
  {
   "cell_type": "code",
   "execution_count": 108,
   "metadata": {},
   "outputs": [
    {
     "name": "stdout",
     "output_type": "stream",
     "text": [
      "MAE: 353669753.859\n",
      "MAE: 4.909\n",
      "MAE: 2.755\n"
     ]
    }
   ],
   "source": [
    "from sklearn.linear_model import LinearRegression\n",
    "from sklearn.metrics import mean_absolute_error\n",
    "model = LinearRegression()\n",
    "model.fit(X_train, y_train)\n",
    "yhat = model.predict(X_test)\n",
    "mae = mean_absolute_error(y_test, yhat)\n",
    "print('MAE: %.3f' % mae)\n",
    "\n",
    "from sklearn import linear_model\n",
    "model =linear_model.Ridge(alpha=.5)\n",
    "model.fit(X_train, y_train)\n",
    "yhat = model.predict(X_test)\n",
    "mae = mean_absolute_error(y_test, yhat)\n",
    "print('MAE: %.3f' % mae)\n",
    "\n",
    "from sklearn import linear_model\n",
    "model = linear_model.Lasso(alpha=0.1)\n",
    "model.fit(X_train, y_train)\n",
    "yhat = model.predict(X_test)\n",
    "mae = mean_absolute_error(y_test, yhat)\n",
    "print('MAE: %.3f' % mae)"
   ]
  },
  {
   "cell_type": "code",
   "execution_count": 116,
   "metadata": {},
   "outputs": [
    {
     "name": "stdout",
     "output_type": "stream",
     "text": [
      "MAE: 32937.938\n",
      "MAE: 3.104\n",
      "MAE: 2.776\n",
      "MAE: 828340.935\n",
      "MAE: 3.612\n",
      "MAE: 2.766\n",
      "MAE: 828485.236\n",
      "MAE: 3.964\n",
      "MAE: 2.750\n",
      "MAE: 54854131.594\n",
      "MAE: 4.383\n",
      "MAE: 2.754\n",
      "MAE: 264201964.850\n",
      "MAE: 4.923\n",
      "MAE: 2.755\n",
      "MAE: 19374673.191\n",
      "MAE: 4.881\n",
      "MAE: 2.755\n",
      "MAE: 51737874.014\n",
      "MAE: 4.870\n",
      "MAE: 2.755\n"
     ]
    }
   ],
   "source": [
    "for i in range((7)):\n",
    "    # evaluation of a model using 10 features chosen with correlation\n",
    "    from sklearn.datasets import make_regression\n",
    "    from sklearn.model_selection import train_test_split\n",
    "    from sklearn.feature_selection import SelectKBest\n",
    "    from sklearn.feature_selection import f_regression\n",
    "    from sklearn.linear_model import LinearRegression\n",
    "    from sklearn.metrics import mean_absolute_error\n",
    "\n",
    "    # feature selection\n",
    "    def select_features(X_train, y_train, X_test):\n",
    "        # configure to select a subset of features\n",
    "        fs = SelectKBest(score_func=f_regression, k=(i+1)*1000)\n",
    "        # learn relationship from training data\n",
    "        fs.fit(X_train, y_train)\n",
    "        # transform train input data\n",
    "        X_train_fs = fs.transform(X_train)\n",
    "        # transform test input data\n",
    "        X_test_fs = fs.transform(X_test)\n",
    "        return X_train_fs, X_test_fs, fs\n",
    "\n",
    "    # load the dataset\n",
    "    # feature selection\n",
    "    X_train_fs, X_test_fs, fs = select_features(X_train, y_train, X_test)\n",
    "    # fit the model\n",
    "    model = LinearRegression()\n",
    "    model.fit(X_train_fs, y_train)\n",
    "    # evaluate the model\n",
    "    yhat = model.predict(X_test_fs)\n",
    "    # evaluate predictions\n",
    "    mae = mean_absolute_error(y_test, yhat)\n",
    "    print('MAE: %.3f' % mae)\n",
    "\n",
    "    from sklearn import linear_model\n",
    "    model =linear_model.Ridge(alpha=.5)\n",
    "    model.fit(X_train_fs, y_train)\n",
    "    yhat = model.predict(X_test_fs)\n",
    "    mae = mean_absolute_error(y_test, yhat)\n",
    "    print('MAE: %.3f' % mae)\n",
    "\n",
    "    from sklearn import linear_model\n",
    "    model = linear_model.Lasso(alpha=0.1)\n",
    "    model.fit(X_train_fs, y_train)\n",
    "    yhat = model.predict(X_test_fs)\n",
    "    mae = mean_absolute_error(y_test, yhat)\n",
    "    print('MAE: %.3f' % mae)"
   ]
  },
  {
   "cell_type": "code",
   "execution_count": 120,
   "metadata": {},
   "outputs": [
    {
     "name": "stdout",
     "output_type": "stream",
     "text": [
      "MAE: 2.825\n",
      "MAE: 2.824\n",
      "MAE: 2.814\n",
      "MAE: 2.855\n",
      "MAE: 2.838\n",
      "MAE: 2.790\n",
      "MAE: 2.868\n",
      "MAE: 2.840\n",
      "MAE: 2.786\n",
      "MAE: 2.932\n",
      "MAE: 2.898\n",
      "MAE: 2.785\n",
      "MAE: 2.977\n",
      "MAE: 2.935\n",
      "MAE: 2.785\n",
      "MAE: 3.039\n",
      "MAE: 2.953\n",
      "MAE: 2.785\n",
      "MAE: 3.081\n",
      "MAE: 2.974\n",
      "MAE: 2.775\n",
      "MAE: 3.138\n",
      "MAE: 3.007\n",
      "MAE: 2.776\n",
      "MAE: 3.193\n",
      "MAE: 3.051\n",
      "MAE: 2.776\n",
      "MAE: 32937.938\n",
      "MAE: 3.104\n",
      "MAE: 2.776\n",
      "MAE: 828340.935\n",
      "MAE: 3.612\n",
      "MAE: 2.766\n",
      "MAE: 828485.236\n",
      "MAE: 3.964\n",
      "MAE: 2.750\n",
      "MAE: 54854131.594\n",
      "MAE: 4.383\n",
      "MAE: 2.754\n",
      "MAE: 264201964.850\n",
      "MAE: 4.923\n",
      "MAE: 2.755\n",
      "MAE: 19374673.191\n",
      "MAE: 4.881\n",
      "MAE: 2.755\n",
      "MAE: 51737874.014\n",
      "MAE: 4.870\n",
      "MAE: 2.755\n",
      "MAE: 353669753.859\n",
      "MAE: 4.909\n",
      "MAE: 2.755\n"
     ]
    }
   ],
   "source": [
    "asd = [100,200,300,400,500,600,700,800,900,1000,2000,3000,4000,5000,6000,7000,'all']\n",
    "for i in range(len(asd)):\n",
    "    # evaluation of a model using 10 features chosen with correlation\n",
    "    from sklearn.datasets import make_regression\n",
    "    from sklearn.model_selection import train_test_split\n",
    "    from sklearn.feature_selection import SelectKBest\n",
    "    from sklearn.feature_selection import f_regression\n",
    "    from sklearn.linear_model import LinearRegression\n",
    "    from sklearn.metrics import mean_absolute_error\n",
    "\n",
    "    # feature selection\n",
    "    def select_features(X_train, y_train, X_test):\n",
    "        # configure to select a subset of features\n",
    "        fs = SelectKBest(score_func=f_regression, k=asd[i])\n",
    "        # learn relationship from training data\n",
    "        fs.fit(X_train, y_train)\n",
    "        # transform train input data\n",
    "        X_train_fs = fs.transform(X_train)\n",
    "        # transform test input data\n",
    "        X_test_fs = fs.transform(X_test)\n",
    "        return X_train_fs, X_test_fs, fs\n",
    "\n",
    "    # load the dataset\n",
    "    # feature selection\n",
    "    X_train_fs, X_test_fs, fs = select_features(X_train, y_train, X_test)\n",
    "    # fit the model\n",
    "    model = LinearRegression()\n",
    "    model.fit(X_train_fs, y_train)\n",
    "    # evaluate the model\n",
    "    yhat = model.predict(X_test_fs)\n",
    "    # evaluate predictions\n",
    "    mae = mean_absolute_error(y_test, yhat)\n",
    "    print('MAE: %.3f' % mae)\n",
    "\n",
    "    from sklearn import linear_model\n",
    "    model =linear_model.Ridge(alpha=.5)\n",
    "    model.fit(X_train_fs, y_train)\n",
    "    yhat = model.predict(X_test_fs)\n",
    "    mae = mean_absolute_error(y_test, yhat)\n",
    "    print('MAE: %.3f' % mae)\n",
    "\n",
    "    from sklearn import linear_model\n",
    "    model = linear_model.Lasso(alpha=0.1)\n",
    "    model.fit(X_train_fs, y_train)\n",
    "    yhat = model.predict(X_test_fs)\n",
    "    mae = mean_absolute_error(y_test, yhat)\n",
    "    print('MAE: %.3f' % mae)"
   ]
  },
  {
   "cell_type": "code",
   "execution_count": 121,
   "metadata": {},
   "outputs": [
    {
     "name": "stdout",
     "output_type": "stream",
     "text": [
      "MAE: 2.794\n",
      "MAE: 2.796\n",
      "MAE: 2.796\n",
      "MAE: 2.880\n",
      "MAE: 2.848\n",
      "MAE: 2.785\n",
      "MAE: 2.951\n",
      "MAE: 2.890\n",
      "MAE: 2.780\n",
      "MAE: 3.004\n",
      "MAE: 2.931\n",
      "MAE: 2.780\n",
      "MAE: 3.067\n",
      "MAE: 2.965\n",
      "MAE: 2.776\n",
      "MAE: 50961.184\n",
      "MAE: 2.976\n",
      "MAE: 2.777\n",
      "MAE: 49886.315\n",
      "MAE: 3.010\n",
      "MAE: 2.778\n",
      "MAE: 56918.244\n",
      "MAE: 3.048\n",
      "MAE: 2.778\n",
      "MAE: 39391.825\n",
      "MAE: 3.080\n",
      "MAE: 2.776\n",
      "MAE: 12517.689\n",
      "MAE: 3.175\n",
      "MAE: 2.776\n",
      "MAE: 109250.256\n",
      "MAE: 3.558\n",
      "MAE: 2.759\n",
      "MAE: 8937096.124\n",
      "MAE: 3.953\n",
      "MAE: 2.758\n",
      "MAE: 4702390.106\n",
      "MAE: 4.506\n",
      "MAE: 2.760\n",
      "MAE: 51892533.926\n",
      "MAE: 4.926\n",
      "MAE: 2.759\n",
      "MAE: 6.072\n",
      "MAE: 5.044\n",
      "MAE: 2.757\n",
      "MAE: 436718870.014\n",
      "MAE: 5.071\n",
      "MAE: 2.759\n",
      "MAE: 353669753.859\n",
      "MAE: 4.909\n",
      "MAE: 2.755\n"
     ]
    }
   ],
   "source": [
    "asd = [100,200,300,400,500,600,700,800,900,1000,2000,3000,4000,5000,6000,7000,'all']\n",
    "for i in range(len(asd)):\n",
    "    # evaluation of a model using 10 features chosen with correlation\n",
    "    from sklearn.datasets import make_regression\n",
    "    from sklearn.model_selection import train_test_split\n",
    "    from sklearn.feature_selection import SelectKBest\n",
    "    from sklearn.feature_selection import f_regression\n",
    "    from sklearn.linear_model import LinearRegression\n",
    "    from sklearn.metrics import mean_absolute_error\n",
    "\n",
    "    # feature selection\n",
    "    def select_features(X_train, y_train, X_test):\n",
    "        # configure to select a subset of features\n",
    "        fs = SelectKBest(score_func=mutual_info_regression, k=asd[i])\n",
    "        # learn relationship from training data\n",
    "        fs.fit(X_train, y_train)\n",
    "        # transform train input data\n",
    "        X_train_fs = fs.transform(X_train)\n",
    "        # transform test input data\n",
    "        X_test_fs = fs.transform(X_test)\n",
    "        return X_train_fs, X_test_fs, fs\n",
    "\n",
    "    # load the dataset\n",
    "    # feature selection\n",
    "    X_train_fs, X_test_fs, fs = select_features(X_train, y_train, X_test)\n",
    "    # fit the model\n",
    "    model = LinearRegression()\n",
    "    model.fit(X_train_fs, y_train)\n",
    "    # evaluate the model\n",
    "    yhat = model.predict(X_test_fs)\n",
    "    # evaluate predictions\n",
    "    mae = mean_absolute_error(y_test, yhat)\n",
    "    print('MAE: %.3f' % mae)\n",
    "\n",
    "    from sklearn import linear_model\n",
    "    model =linear_model.Ridge(alpha=.5)\n",
    "    model.fit(X_train_fs, y_train)\n",
    "    yhat = model.predict(X_test_fs)\n",
    "    mae = mean_absolute_error(y_test, yhat)\n",
    "    print('MAE: %.3f' % mae)\n",
    "\n",
    "    from sklearn import linear_model\n",
    "    model = linear_model.Lasso(alpha=0.1)\n",
    "    model.fit(X_train_fs, y_train)\n",
    "    yhat = model.predict(X_test_fs)\n",
    "    mae = mean_absolute_error(y_test, yhat)\n",
    "    print('MAE: %.3f' % mae)"
   ]
  },
  {
   "cell_type": "code",
   "execution_count": 134,
   "metadata": {},
   "outputs": [
    {
     "data": {
      "image/png": "[encoded data removed]",
      "text/plain": [
       "<Figure size 432x288 with 1 Axes>"
      ]
     },
     "metadata": {
      "needs_background": "light"
     },
     "output_type": "display_data"
    }
   ],
   "source": [
    "import matplotlib.pyplot as plt\n",
    "def select_features(X_train, y_train, X_test):\n",
    "    # configure to select a subset of features\n",
    "    fs = SelectKBest(score_func=mutual_info_regression, k=600)\n",
    "    # learn relationship from training data\n",
    "    fit = fs.fit(X_train, y_train)\n",
    "    indices = np.argsort(fit.scores_)[::-1]\n",
    "\n",
    "    # To get your top 10 feature names\n",
    "    features = []\n",
    "    for i in range(20):\n",
    "        features.append(X.columns[indices[i]])\n",
    "\n",
    "    # Now plot\n",
    "    plt.figure()\n",
    "    plt.xticks(rotation=70)\n",
    "    plt.bar(features, fit.scores_[indices[range(20)]], color='r', align='center')\n",
    "    plt.show()\n",
    "    # transform train input data\n",
    "    X_train_fs = fs.transform(X_train)\n",
    "    # transform test input data\n",
    "    X_test_fs = fs.transform(X_test)\n",
    "    return X_train_fs, X_test_fs, fs\n",
    "\n",
    "X_train_fs, X_test_fs, fs = select_features(X_train, y_train, X_test)\n"
   ]
  },
  {
   "cell_type": "code",
   "execution_count": 133,
   "metadata": {},
   "outputs": [
    {
     "data": {
      "image/png": "[encoded data removed]",
      "text/plain": [
       "<Figure size 432x288 with 1 Axes>"
      ]
     },
     "metadata": {
      "needs_background": "light"
     },
     "output_type": "display_data"
    }
   ],
   "source": [
    "import matplotlib.pyplot as plt\n",
    "def select_features(X_train, y_train, X_test):\n",
    "    # configure to select a subset of features\n",
    "    fs = SelectKBest(score_func=f_regression, k=600)\n",
    "    # learn relationship from training data\n",
    "    fit = fs.fit(X_train, y_train)\n",
    "    indices = np.argsort(fit.scores_)[::-1]\n",
    "\n",
    "    # To get your top 10 feature names\n",
    "    features = []\n",
    "    for i in range(20):\n",
    "        features.append(X.columns[indices[i]])\n",
    "\n",
    "    # Now plot\n",
    "    plt.figure()\n",
    "    plt.xticks(rotation=70)\n",
    "    plt.bar(features, fit.scores_[indices[range(20)]], color='r', align='center')\n",
    "    plt.show()\n",
    "    # transform train input data\n",
    "    X_train_fs = fs.transform(X_train)\n",
    "    # transform test input data\n",
    "    X_test_fs = fs.transform(X_test)\n",
    "    return X_train_fs, X_test_fs, fs\n",
    "\n",
    "X_train_fs, X_test_fs, fs = select_features(X_train, y_train, X_test)\n"
   ]
  }
 ],
 "metadata": {
  "kernelspec": {
   "display_name": "Python 3",
   "language": "python",
   "name": "python3"
  },
  "language_info": {
   "codemirror_mode": {
    "name": "ipython",
    "version": 3
   },
   "file_extension": ".py",
   "mimetype": "text/x-python",
   "name": "python",
   "nbconvert_exporter": "python",
   "pygments_lexer": "ipython3",
   "version": "3.8.5"
  }
 },
 "nbformat": 4,
 "nbformat_minor": 4
}
